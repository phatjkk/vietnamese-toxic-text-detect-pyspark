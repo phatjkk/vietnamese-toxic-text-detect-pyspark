{
  "nbformat": 4,
  "nbformat_minor": 0,
  "metadata": {
    "colab": {
      "provenance": []
    },
    "kernelspec": {
      "name": "python3",
      "display_name": "Python 3"
    },
    "language_info": {
      "name": "python"
    }
  },
  "cells": [
    {
      "cell_type": "markdown",
      "source": [
        "#**Vietnamese Toxic Detect System with Pyspark**\n",
        "Phát hiện nội dung độc hại bằng tiếng Việt với Pyspark\n",
        "\n",
        "Tiểu luận môn học **Dữ liệu lớn**\n",
        "\n",
        "---\n",
        "\n",
        "**Họ và tên SV 1:** Nguyễn Thành Phát\n",
        "\n",
        "**MSSV SV 1:** 2000006273\n",
        "\n",
        "---\n",
        "\n",
        "**Họ và tên SV 2:** Nguyễn Minh Trí\n",
        "\n",
        "**MSSV SV 2:** 2000000054\n",
        "\n",
        "---\n",
        "\n",
        "##(Nhấn Crtl + F9 để chạy tất cả)"
      ],
      "metadata": {
        "id": "a-ioLuLUA-IB"
      }
    },
    {
      "cell_type": "code",
      "execution_count": null,
      "metadata": {
        "id": "T36C5qzVP6K3",
        "colab": {
          "base_uri": "https://localhost:8080/"
        },
        "outputId": "62be503e-8887-47ba-8beb-19556f11232f"
      },
      "outputs": [
        {
          "output_type": "stream",
          "name": "stdout",
          "text": [
            "Collecting pyspark\n",
            "  Downloading pyspark-3.4.1.tar.gz (310.8 MB)\n",
            "\u001b[2K     \u001b[90m━━━━━━━━━━━━━━━━━━━━━━━━━━━━━━━━━━━━━━━\u001b[0m \u001b[32m310.8/310.8 MB\u001b[0m \u001b[31m4.1 MB/s\u001b[0m eta \u001b[36m0:00:00\u001b[0m\n",
            "\u001b[?25h  Preparing metadata (setup.py) ... \u001b[?25l\u001b[?25hdone\n",
            "Collecting handyspark\n",
            "  Downloading handyspark-0.2.2a1-py2.py3-none-any.whl (39 kB)\n",
            "Requirement already satisfied: py4j==0.10.9.7 in /usr/local/lib/python3.10/dist-packages (from pyspark) (0.10.9.7)\n",
            "Requirement already satisfied: matplotlib in /usr/local/lib/python3.10/dist-packages (from handyspark) (3.7.1)\n",
            "Requirement already satisfied: numpy in /usr/local/lib/python3.10/dist-packages (from handyspark) (1.23.5)\n",
            "Requirement already satisfied: scipy in /usr/local/lib/python3.10/dist-packages (from handyspark) (1.10.1)\n",
            "Requirement already satisfied: seaborn in /usr/local/lib/python3.10/dist-packages (from handyspark) (0.12.2)\n",
            "Requirement already satisfied: pandas in /usr/local/lib/python3.10/dist-packages (from handyspark) (1.5.3)\n",
            "Requirement already satisfied: scikit-learn in /usr/local/lib/python3.10/dist-packages (from handyspark) (1.2.2)\n",
            "Collecting findspark (from handyspark)\n",
            "  Downloading findspark-2.0.1-py2.py3-none-any.whl (4.4 kB)\n",
            "Requirement already satisfied: pyarrow in /usr/local/lib/python3.10/dist-packages (from handyspark) (9.0.0)\n",
            "Requirement already satisfied: contourpy>=1.0.1 in /usr/local/lib/python3.10/dist-packages (from matplotlib->handyspark) (1.1.0)\n",
            "Requirement already satisfied: cycler>=0.10 in /usr/local/lib/python3.10/dist-packages (from matplotlib->handyspark) (0.11.0)\n",
            "Requirement already satisfied: fonttools>=4.22.0 in /usr/local/lib/python3.10/dist-packages (from matplotlib->handyspark) (4.42.1)\n",
            "Requirement already satisfied: kiwisolver>=1.0.1 in /usr/local/lib/python3.10/dist-packages (from matplotlib->handyspark) (1.4.4)\n",
            "Requirement already satisfied: packaging>=20.0 in /usr/local/lib/python3.10/dist-packages (from matplotlib->handyspark) (23.1)\n",
            "Requirement already satisfied: pillow>=6.2.0 in /usr/local/lib/python3.10/dist-packages (from matplotlib->handyspark) (9.4.0)\n",
            "Requirement already satisfied: pyparsing>=2.3.1 in /usr/local/lib/python3.10/dist-packages (from matplotlib->handyspark) (3.1.1)\n",
            "Requirement already satisfied: python-dateutil>=2.7 in /usr/local/lib/python3.10/dist-packages (from matplotlib->handyspark) (2.8.2)\n",
            "Requirement already satisfied: pytz>=2020.1 in /usr/local/lib/python3.10/dist-packages (from pandas->handyspark) (2023.3)\n",
            "Requirement already satisfied: joblib>=1.1.1 in /usr/local/lib/python3.10/dist-packages (from scikit-learn->handyspark) (1.3.2)\n",
            "Requirement already satisfied: threadpoolctl>=2.0.0 in /usr/local/lib/python3.10/dist-packages (from scikit-learn->handyspark) (3.2.0)\n",
            "Requirement already satisfied: six>=1.5 in /usr/local/lib/python3.10/dist-packages (from python-dateutil>=2.7->matplotlib->handyspark) (1.16.0)\n",
            "Building wheels for collected packages: pyspark\n",
            "  Building wheel for pyspark (setup.py) ... \u001b[?25l\u001b[?25hdone\n",
            "  Created wheel for pyspark: filename=pyspark-3.4.1-py2.py3-none-any.whl size=311285387 sha256=a77836080dfb5451d305e7832ed992826e8b4bfc8571bc73f4e3e07e157764f6\n",
            "  Stored in directory: /root/.cache/pip/wheels/0d/77/a3/ff2f74cc9ab41f8f594dabf0579c2a7c6de920d584206e0834\n",
            "Successfully built pyspark\n",
            "Installing collected packages: findspark, pyspark, handyspark\n",
            "Successfully installed findspark-2.0.1 handyspark-0.2.2a1 pyspark-3.4.1\n"
          ]
        }
      ],
      "source": [
        "!pip install pyspark handyspark"
      ]
    },
    {
      "cell_type": "code",
      "source": [
        "# Download dataset\n",
        "!gdown 1CriqmsH9MzKn9k78x9GvnH5UTAg3GBIF\n",
        "!gdown 1RyAZ_vpO2sndK9ZTvJLenVMPcnIwJuhh\n",
        "!wget https://github.com/phusroyal/ViHOS/raw/master/data/Span_Extraction_based_version/train.csv\n",
        "!wget https://github.com/phusroyal/ViHOS/raw/master/data/Test_data/test.csv"
      ],
      "metadata": {
        "colab": {
          "base_uri": "https://localhost:8080/"
        },
        "id": "pKbQQ6SDRwEI",
        "outputId": "9237e8d1-444b-464d-bf8a-60481694149d"
      },
      "execution_count": null,
      "outputs": [
        {
          "output_type": "stream",
          "name": "stdout",
          "text": [
            "Downloading...\n",
            "From: https://drive.google.com/uc?id=1CriqmsH9MzKn9k78x9GvnH5UTAg3GBIF\n",
            "To: /content/negative_data.csv\n",
            "100% 864k/864k [00:00<00:00, 27.9MB/s]\n",
            "Downloading...\n",
            "From: https://drive.google.com/uc?id=1RyAZ_vpO2sndK9ZTvJLenVMPcnIwJuhh\n",
            "To: /content/positive_data.csv\n",
            "100% 1.12M/1.12M [00:00<00:00, 24.4MB/s]\n",
            "--2023-09-05 14:33:24--  https://github.com/phusroyal/ViHOS/raw/master/data/Span_Extraction_based_version/train.csv\n",
            "Resolving github.com (github.com)... 140.82.113.4\n",
            "Connecting to github.com (github.com)|140.82.113.4|:443... connected.\n",
            "HTTP request sent, awaiting response... 302 Found\n",
            "Location: https://raw.githubusercontent.com/phusroyal/ViHOS/master/data/Span_Extraction_based_version/train.csv [following]\n",
            "--2023-09-05 14:33:25--  https://raw.githubusercontent.com/phusroyal/ViHOS/master/data/Span_Extraction_based_version/train.csv\n",
            "Resolving raw.githubusercontent.com (raw.githubusercontent.com)... 185.199.108.133, 185.199.109.133, 185.199.110.133, ...\n",
            "Connecting to raw.githubusercontent.com (raw.githubusercontent.com)|185.199.108.133|:443... connected.\n",
            "HTTP request sent, awaiting response... 200 OK\n",
            "Length: 1004691 (981K) [text/plain]\n",
            "Saving to: ‘train.csv’\n",
            "\n",
            "train.csv           100%[===================>] 981.14K  --.-KB/s    in 0.009s  \n",
            "\n",
            "2023-09-05 14:33:25 (108 MB/s) - ‘train.csv’ saved [1004691/1004691]\n",
            "\n",
            "--2023-09-05 14:33:25--  https://github.com/phusroyal/ViHOS/raw/master/data/Test_data/test.csv\n",
            "Resolving github.com (github.com)... 140.82.113.4\n",
            "Connecting to github.com (github.com)|140.82.113.4|:443... connected.\n",
            "HTTP request sent, awaiting response... 302 Found\n",
            "Location: https://raw.githubusercontent.com/phusroyal/ViHOS/master/data/Test_data/test.csv [following]\n",
            "--2023-09-05 14:33:25--  https://raw.githubusercontent.com/phusroyal/ViHOS/master/data/Test_data/test.csv\n",
            "Resolving raw.githubusercontent.com (raw.githubusercontent.com)... 185.199.108.133, 185.199.109.133, 185.199.110.133, ...\n",
            "Connecting to raw.githubusercontent.com (raw.githubusercontent.com)|185.199.108.133|:443... connected.\n",
            "HTTP request sent, awaiting response... 200 OK\n",
            "Length: 121774 (119K) [text/plain]\n",
            "Saving to: ‘test.csv’\n",
            "\n",
            "test.csv            100%[===================>] 118.92K  --.-KB/s    in 0.004s  \n",
            "\n",
            "2023-09-05 14:33:25 (29.0 MB/s) - ‘test.csv’ saved [121774/121774]\n",
            "\n"
          ]
        }
      ]
    },
    {
      "cell_type": "code",
      "source": [
        "# Import thư viện\n",
        "from pyspark.sql import SparkSession\n",
        "from pyspark.ml.feature import Tokenizer, StopWordsRemover, HashingTF, IDF\n",
        "from pyspark.ml.classification import LogisticRegression\n",
        "from pyspark.ml import Pipeline\n",
        "from pyspark.ml.evaluation import BinaryClassificationEvaluator\n"
      ],
      "metadata": {
        "id": "otcdaz_iRfGd"
      },
      "execution_count": null,
      "outputs": []
    },
    {
      "cell_type": "code",
      "source": [
        "# Tạo Session hoạt động cho project\n",
        "spark = SparkSession.builder.appName(\"ToxicTextClassification\").getOrCreate()"
      ],
      "metadata": {
        "id": "pFvMehZCRg7r"
      },
      "execution_count": null,
      "outputs": []
    },
    {
      "cell_type": "code",
      "source": [
        "df_vihos = spark.read.csv(\"train.csv\", header=True, inferSchema=True)"
      ],
      "metadata": {
        "id": "eRMaKQ3drXte"
      },
      "execution_count": null,
      "outputs": []
    },
    {
      "cell_type": "code",
      "source": [
        "df_vihos.describe().show()"
      ],
      "metadata": {
        "colab": {
          "base_uri": "https://localhost:8080/"
        },
        "id": "3k7ipcwudFLT",
        "outputId": "1e99930c-ebda-4a36-c442-97ab90d67358"
      },
      "execution_count": null,
      "outputs": [
        {
          "output_type": "stream",
          "name": "stdout",
          "text": [
            "+-------+--------------------+-------+--------------------+\n",
            "|summary|                 _c0|content|         index_spans|\n",
            "+-------+--------------------+-------+--------------------+\n",
            "|  count|                8853|   8850|                8838|\n",
            "|   mean|              4421.5|   null|                10.0|\n",
            "| stddev|  2553.1872238439546|   null|                null|\n",
            "|    min|- \"\"có lẽ bạn kg ...|    !!!| \"\"DN Việt đóng n...|\n",
            "|    max|Tàu ác hơn Mỹ tră...| 🥰🥰🥰|ơn chính phủ...\"\"...|\n",
            "+-------+--------------------+-------+--------------------+\n",
            "\n"
          ]
        }
      ]
    },
    {
      "cell_type": "code",
      "source": [
        "df_vihos_test = spark.read.csv(\"test.csv\", header=True, inferSchema=True)"
      ],
      "metadata": {
        "id": "-I90oGDlqfoK"
      },
      "execution_count": null,
      "outputs": []
    },
    {
      "cell_type": "code",
      "source": [
        "df_vihos_test.describe().show()"
      ],
      "metadata": {
        "colab": {
          "base_uri": "https://localhost:8080/"
        },
        "id": "rZnxjsqlg1_A",
        "outputId": "d509425e-0aac-4990-eea7-7d613981d2a2"
      },
      "execution_count": null,
      "outputs": [
        {
          "output_type": "stream",
          "name": "stdout",
          "text": [
            "+-------+--------------------+--------------------+--------------------+\n",
            "|summary|                 _c0|             content|         index_spans|\n",
            "+-------+--------------------+--------------------+--------------------+\n",
            "|  count|                1107|                1107|                1105|\n",
            "|   mean|               552.5|                null|                null|\n",
            "| stddev|   319.4190038178693|                null|                null|\n",
            "|    min|                   0|\"Bố lạy mày đừng ...| bị bọn Mỹ \"\"Ngụy...|\n",
            "|    max|Sau này mụ chết c...|            🤣🤣🤣🤣|                  []|\n",
            "+-------+--------------------+--------------------+--------------------+\n",
            "\n"
          ]
        }
      ]
    },
    {
      "cell_type": "code",
      "source": [
        "df_vihos.show()"
      ],
      "metadata": {
        "colab": {
          "base_uri": "https://localhost:8080/"
        },
        "id": "APFgOgS4sRoB",
        "outputId": "353b1b26-9162-4e8b-e1bd-3b3cb173a9bc"
      },
      "execution_count": null,
      "outputs": [
        {
          "output_type": "stream",
          "name": "stdout",
          "text": [
            "+---+--------------------+--------------------+\n",
            "|_c0|             content|         index_spans|\n",
            "+---+--------------------+--------------------+\n",
            "|  0|         Dừa lắm :))|                  []|\n",
            "|  1|     Bấp bênh vl thế|             [9, 10]|\n",
            "|  2|Chắc cũng biết ko...|        [53, 54, 55]|\n",
            "|  3|Thấy chán ad page...|[5, 6, 7, 8, 36, ...|\n",
            "|  4|Giang Giang Đỗ Th...|                  []|\n",
            "|  5|đcm 😒 sau có con...|[0, 1, 2, 4, 21, ...|\n",
            "|  6|  Má nứng quá aiu ơi|  [0, 1, 3, 4, 5, 6]|\n",
            "|  7|Chụp cái ảnh thôi...|        [22, 23, 24]|\n",
            "|  8|Tăng theo giờ 😭😭😭|                  []|\n",
            "|  9|Cực kì thuyết phụ...|                  []|\n",
            "| 10|Emma Nguyen vậy m...|        [49, 50, 51]|\n",
            "| 11|           Thằng chó|[0, 1, 2, 3, 4, 5...|\n",
            "| 12|Loại nghiện game ...|[0, 1, 2, 3, 4, 5...|\n",
            "| 13|Nhung Pham Ai chê...|[52, 53, 65, 66, ...|\n",
            "| 14|toàn tin vớ vẩn ....|[109, 110, 111, 1...|\n",
            "| 15|Ủa bê đê có lol h...|[3, 4, 5, 6, 7, 1...|\n",
            "| 16|Kéo chuột vãi lồn...|[10, 11, 12, 13, ...|\n",
            "| 17|Mỗi lần lên sóng ...|[29, 30, 31, 32, ...|\n",
            "| 18|Làm thêm chục củ ...|                  []|\n",
            "| 19|Hãnh diện về ng t...|                  []|\n",
            "+---+--------------------+--------------------+\n",
            "only showing top 20 rows\n",
            "\n"
          ]
        }
      ]
    },
    {
      "cell_type": "markdown",
      "source": [
        "## **Tiền xử lý dữ liệu**"
      ],
      "metadata": {
        "id": "buBHNY3IvO4_"
      }
    },
    {
      "cell_type": "code",
      "source": [
        "from pyspark.sql.functions import udf\n",
        "from pyspark.sql.types import StringType,IntegerType\n",
        "# Xoá data bị null\n",
        "df_vihos = df_vihos.dropna()\n",
        "# Chuyển index_spans thành dạng nhãn đơn giản\n",
        "# 1 tương ứng với độc hại, 0 thì không\n",
        "def convertToLabel(x):\n",
        "    return 0 if len(str(x))>2 else 1\n",
        "\n",
        "df_vihos_withLabel = df_vihos.withColumn(\"Label\", udf(convertToLabel,StringType())(\"index_spans\"))\n",
        "# Xoá cột này đi vì không cần dùng nữa, và cột chỉ mục _c0\n",
        "df_vihos_withLabel = df_vihos_withLabel.drop(\"index_spans\",\"_c0\")\n",
        "# Với tập test đi kèm cũng làm tương tự\n",
        "df_vihos_test = df_vihos_test.withColumn(\"Label\", udf(convertToLabel,StringType())(\"index_spans\"))"
      ],
      "metadata": {
        "id": "ZRynVzKxrndL"
      },
      "execution_count": null,
      "outputs": []
    },
    {
      "cell_type": "code",
      "source": [
        "df_vihos_withLabel.show()"
      ],
      "metadata": {
        "colab": {
          "base_uri": "https://localhost:8080/"
        },
        "id": "anYfhWXrt6y0",
        "outputId": "6549352f-f1e9-42a1-f349-7666bb7d0e14"
      },
      "execution_count": null,
      "outputs": [
        {
          "output_type": "stream",
          "name": "stdout",
          "text": [
            "+--------------------+-----+\n",
            "|             content|Label|\n",
            "+--------------------+-----+\n",
            "|         Dừa lắm :))|    1|\n",
            "|     Bấp bênh vl thế|    0|\n",
            "|Chắc cũng biết ko...|    0|\n",
            "|Thấy chán ad page...|    0|\n",
            "|Giang Giang Đỗ Th...|    1|\n",
            "|đcm 😒 sau có con...|    0|\n",
            "|  Má nứng quá aiu ơi|    0|\n",
            "|Chụp cái ảnh thôi...|    0|\n",
            "|Tăng theo giờ 😭😭😭|    1|\n",
            "|Cực kì thuyết phụ...|    1|\n",
            "|Emma Nguyen vậy m...|    0|\n",
            "|           Thằng chó|    0|\n",
            "|Loại nghiện game ...|    0|\n",
            "|Nhung Pham Ai chê...|    0|\n",
            "|toàn tin vớ vẩn ....|    0|\n",
            "|Ủa bê đê có lol h...|    0|\n",
            "|Kéo chuột vãi lồn...|    0|\n",
            "|Mỗi lần lên sóng ...|    0|\n",
            "|Làm thêm chục củ ...|    1|\n",
            "|Hãnh diện về ng t...|    1|\n",
            "+--------------------+-----+\n",
            "only showing top 20 rows\n",
            "\n"
          ]
        }
      ]
    },
    {
      "cell_type": "code",
      "source": [
        "# Lấy data từ 2 tập dữ liệu đánh giá tích cực và tiêu cực\n",
        "df_ne = spark.read.csv(\"negative_data.csv\", header=True, inferSchema=True)\n",
        "df_po = spark.read.csv(\"positive_data.csv\", header=True, inferSchema=True)\n",
        "# Nối 2 DataFrame thành 1 bộ DataFrame duy nhất\n",
        "df = df_ne.union(df_po).dropDuplicates()\n"
      ],
      "metadata": {
        "id": "lcNTzU19RyS3"
      },
      "execution_count": null,
      "outputs": []
    },
    {
      "cell_type": "code",
      "source": [
        "df.describe().show()"
      ],
      "metadata": {
        "colab": {
          "base_uri": "https://localhost:8080/"
        },
        "id": "g-7aR7-RhHfH",
        "outputId": "ac6f0c23-64e0-4b4b-e3cb-c31aa15dcfde"
      },
      "execution_count": null,
      "outputs": [
        {
          "output_type": "stream",
          "name": "stdout",
          "text": [
            "+-------+------------------+--------------------+-------------------+\n",
            "|summary|              Rate|              Review|              Label|\n",
            "+-------+------------------+--------------------+-------------------+\n",
            "|  count|              4391|                4391|               4391|\n",
            "|   mean| 6.739330448645003|                null| 0.5980414484172171|\n",
            "| stddev|3.3021149304670567|                null|0.49034950030585467|\n",
            "|    min|               1.0| #NGẮM_PHÁO_HOA_T...|                  0|\n",
            "|    max|              10.0|\" Nhà hàng Neverl...|                  1|\n",
            "+-------+------------------+--------------------+-------------------+\n",
            "\n"
          ]
        }
      ]
    },
    {
      "cell_type": "code",
      "source": [
        "# Xem 5 dòng đầu tiên\n",
        "df.show(5)"
      ],
      "metadata": {
        "colab": {
          "base_uri": "https://localhost:8080/"
        },
        "id": "QuYQXoU_QDhv",
        "outputId": "e0cfa4f2-8232-4691-be4c-770902f55db9"
      },
      "execution_count": null,
      "outputs": [
        {
          "output_type": "stream",
          "name": "stdout",
          "text": [
            "+----+--------------------+-----+\n",
            "|Rate|              Review|Label|\n",
            "+----+--------------------+-----+\n",
            "| 3.4| Mình gọi chảo pa...|    0|\n",
            "| 3.2| Quán nằm ở mặt đ...|    0|\n",
            "| 2.2| Nếu không muốn ă...|    0|\n",
            "| 3.2| Nửa năm k tới qu...|    0|\n",
            "| 2.4| Eo tưởng hình th...|    0|\n",
            "+----+--------------------+-----+\n",
            "only showing top 5 rows\n",
            "\n"
          ]
        }
      ]
    },
    {
      "cell_type": "code",
      "source": [
        "# Xoá cột Rate vì không cần thiết\n",
        "df = df.drop(\"Rate\")\n",
        "# Đổi tên cột Review thành content cho đồng bộ giữa 2 datasets\n",
        "df = df.withColumnRenamed(\"Review\",\"content\")\n",
        "# Nối 2 dataset thành 1\n",
        "df = df.union(df_vihos_withLabel)"
      ],
      "metadata": {
        "id": "vZAVmlRK9_QT"
      },
      "execution_count": null,
      "outputs": []
    },
    {
      "cell_type": "code",
      "source": [
        "# Xáo trộn dữ liệu\n",
        "import pyspark.sql.functions as F\n",
        "df = df.select(\"*\").orderBy(F.rand())"
      ],
      "metadata": {
        "id": "B1PYGy3DR1oM"
      },
      "execution_count": null,
      "outputs": []
    },
    {
      "cell_type": "code",
      "source": [
        "df = df.withColumn(\"content\", df[\"content\"].cast(StringType()))\n",
        "df = df.withColumn(\"Label\", df[\"Label\"].cast(IntegerType()))"
      ],
      "metadata": {
        "id": "xjBmh0_ZNO90"
      },
      "execution_count": null,
      "outputs": []
    },
    {
      "cell_type": "code",
      "source": [
        "df"
      ],
      "metadata": {
        "colab": {
          "base_uri": "https://localhost:8080/"
        },
        "id": "NmL9Q0DlNVb1",
        "outputId": "d72f0b74-4a00-4c2c-b242-7bbd40a85cd8"
      },
      "execution_count": null,
      "outputs": [
        {
          "output_type": "execute_result",
          "data": {
            "text/plain": [
              "DataFrame[content: string, Label: int]"
            ]
          },
          "metadata": {},
          "execution_count": 353
        }
      ]
    },
    {
      "cell_type": "code",
      "source": [
        "df.show()"
      ],
      "metadata": {
        "colab": {
          "base_uri": "https://localhost:8080/"
        },
        "id": "j0k8vdKx9q4H",
        "outputId": "8acdfd93-60b2-4f4a-b902-8d0136763ee9"
      },
      "execution_count": null,
      "outputs": [
        {
          "output_type": "stream",
          "name": "stdout",
          "text": [
            "+--------------------+-----+\n",
            "|             content|Label|\n",
            "+--------------------+-----+\n",
            "|Quân Anh dơ nhưng...|    1|\n",
            "|Phòng ốc sạch sẽ ...|    1|\n",
            "|Cái này xảy ra ho...|    1|\n",
            "|              bts cc|    0|\n",
            "|Ba nay rah wa luc...|    0|\n",
            "| MÌNH ĐÃ ĐƯA GIA ...|    1|\n",
            "| Mình không thích...|    0|\n",
            "|K icm ca sĩ concac à|    0|\n",
            "|          Trần Thành|    1|\n",
            "| Thực sự là không...|    0|\n",
            "| Cheese cheese ko...|    1|\n",
            "|        Cc j zay :))|    0|\n",
            "|Giọng anh trung B...|    0|\n",
            "|                  🙃|    1|\n",
            "| Ăn vị ướp công n...|    0|\n",
            "|               Ừ OKE|    1|\n",
            "| Khách ruột của q...|    1|\n",
            "|Đang Ôn Thi Tuyết...|    0|\n",
            "|Nguyễn Bảo Nguyen...|    1|\n",
            "|        khi k con vb|    1|\n",
            "+--------------------+-----+\n",
            "only showing top 20 rows\n",
            "\n"
          ]
        }
      ]
    },
    {
      "cell_type": "code",
      "source": [
        "# Show biểu đồ phân bố dữ liệu\n",
        "from handyspark import *\n",
        "hdf = df.toHandy()\n",
        "hdf.cols[\"Label\"].hist()"
      ],
      "metadata": {
        "colab": {
          "base_uri": "https://localhost:8080/",
          "height": 579
        },
        "id": "za1zC4e7gWt3",
        "outputId": "d6a8147f-fd0c-404c-b1db-76e9def0350f"
      },
      "execution_count": null,
      "outputs": [
        {
          "output_type": "stream",
          "name": "stderr",
          "text": [
            "/usr/local/lib/python3.10/dist-packages/pyspark/sql/dataframe.py:169: UserWarning: DataFrame.sql_ctx is an internal property, and will be removed in future releases. Use DataFrame.sparkSession instead.\n",
            "  warnings.warn(\n",
            "/usr/local/lib/python3.10/dist-packages/pyspark/sql/dataframe.py:148: UserWarning: DataFrame constructor is internal. Do not directly use it.\n",
            "  warnings.warn(\"DataFrame constructor is internal. Do not directly use it.\")\n"
          ]
        },
        {
          "output_type": "execute_result",
          "data": {
            "text/plain": [
              "<Axes: title={'center': 'Label'}, xlabel='Label'>"
            ]
          },
          "metadata": {},
          "execution_count": 355
        },
        {
          "output_type": "display_data",
          "data": {
            "text/plain": [
              "<Figure size 640x480 with 1 Axes>"
            ],
            "image/png": "[encoded data removed]"
          },
          "metadata": {}
        }
      ]
    },
    {
      "cell_type": "code",
      "source": [
        "# Lấy một điểm dữ liệu\n",
        "df.take(1)"
      ],
      "metadata": {
        "colab": {
          "base_uri": "https://localhost:8080/"
        },
        "id": "LkG0A2vOU36i",
        "outputId": "24e3d31f-5b97-444c-fcde-2dab928bf84e"
      },
      "execution_count": null,
      "outputs": [
        {
          "output_type": "execute_result",
          "data": {
            "text/plain": [
              "[Row(content='Quân Anh dơ nhưng kích thích', Label=1)]"
            ]
          },
          "metadata": {},
          "execution_count": 356
        }
      ]
    },
    {
      "cell_type": "markdown",
      "source": [
        "## **Xây dựng và huấn luyện mô hình**"
      ],
      "metadata": {
        "id": "mgf-tAQIvZ3z"
      }
    },
    {
      "cell_type": "code",
      "source": [
        "# Tạo các hàm chuyển đổi dữ liệu để có thể tích hợp vào \"đường ống\" (Pipeline)\n",
        "tokenizer = Tokenizer(inputCol=\"content\", outputCol=\"words\")\n",
        "hashingTF = HashingTF(inputCol=\"words\", outputCol=\"rawFeatures\")\n",
        "idf = IDF(inputCol=\"rawFeatures\", outputCol=\"features\")"
      ],
      "metadata": {
        "id": "cAqg0YNIo5cG"
      },
      "execution_count": null,
      "outputs": []
    },
    {
      "cell_type": "code",
      "source": [
        "# Áp dụng mô hình hồi quy Logistic\n",
        "lr = LogisticRegression(featuresCol=\"features\", labelCol=\"Label\")\n",
        "# Tạo đường ống (pineline) truyền từ xử lý dữ liệu đến model\n",
        "pipeline = Pipeline(stages=[tokenizer, hashingTF, idf, lr])\n",
        "# Training mô hình\n",
        "model = pipeline.fit(df)\n"
      ],
      "metadata": {
        "id": "snWoC20GRmmI"
      },
      "execution_count": null,
      "outputs": []
    },
    {
      "cell_type": "markdown",
      "source": [
        "## **Kiểm thử kết quả và dự đoán**"
      ],
      "metadata": {
        "id": "8nSN_RUnvcuP"
      }
    },
    {
      "cell_type": "code",
      "source": [
        "# Lấy kết quả dự đoán trên tập test_vihos\n",
        "df_vihos_test = df_vihos_test.withColumn(\"Label\", df_vihos_test[\"Label\"].cast(IntegerType()))\n",
        "predictions_vihos = model.transform(df_vihos_test)"
      ],
      "metadata": {
        "id": "pwtTEw8DrIO5"
      },
      "execution_count": null,
      "outputs": []
    },
    {
      "cell_type": "code",
      "source": [
        "predictions_vihos.show(5)"
      ],
      "metadata": {
        "colab": {
          "base_uri": "https://localhost:8080/"
        },
        "id": "wluPItklDdkf",
        "outputId": "d0fb119e-b061-4187-84e6-6a9f7cff2c43"
      },
      "execution_count": null,
      "outputs": [
        {
          "output_type": "stream",
          "name": "stdout",
          "text": [
            "+---+--------------------+--------------------+-----+--------------------+--------------------+--------------------+--------------------+--------------------+----------+\n",
            "|_c0|             content|         index_spans|Label|               words|         rawFeatures|            features|       rawPrediction|         probability|prediction|\n",
            "+---+--------------------+--------------------+-----+--------------------+--------------------+--------------------+--------------------+--------------------+----------+\n",
            "|  0|           Anh bar .|                  []|    1|       [anh, bar, .]|(262144,[45404,11...|(262144,[45404,11...|[-42.545656809566...|[3.33162428159463...|       1.0|\n",
            "|  1|          Hello thầy|                  []|    1|       [hello, thầy]|(262144,[217366,2...|(262144,[217366,2...|[-73.709939070962...|[9.73150925602398...|       1.0|\n",
            "|  2|Từ lúc mấy bro cm...|            [26, 27]|    0|[từ, lúc, mấy, br...|(262144,[9408,152...|(262144,[9408,152...|[111.102602157338...|           [1.0,0.0]|       0.0|\n",
            "|  3|Nghe trần dần thấ...|                  []|    1|[nghe, trần, dần,...|(262144,[18699,65...|(262144,[18699,65...|[-64.600811321248...|[8.79476251524479...|       1.0|\n",
            "|  4|Idol tui có khác....|[40, 41, 42, 43, ...|    0|[idol, tui, có, k...|(262144,[68474,87...|(262144,[68474,87...|[204.989405376087...|           [1.0,0.0]|       0.0|\n",
            "+---+--------------------+--------------------+-----+--------------------+--------------------+--------------------+--------------------+--------------------+----------+\n",
            "only showing top 5 rows\n",
            "\n"
          ]
        }
      ]
    },
    {
      "cell_type": "code",
      "source": [
        "# Phân tích AUC (True Positive Rate, TPR)\n",
        "# (Tỉ lệ dự đoán đúng trên nhãn thực tế)\n",
        "evaluator = BinaryClassificationEvaluator(labelCol=\"Label\", metricName=\"areaUnderROC\")\n",
        "auc = evaluator.evaluate(predictions_vihos)\n",
        "print(\"Area under ROC(vihos datasets):\", auc)\n",
        "y_true = df_vihos_test.select(\"Label\").collect()\n",
        "y_pred = predictions_vihos.select(\"prediction\").collect()\n",
        "\n",
        "# In Confusion matrix (Ma trận lầm lẫn)\n",
        "from sklearn.metrics import classification_report, confusion_matrix\n",
        "print(classification_report(y_true, y_pred))"
      ],
      "metadata": {
        "colab": {
          "base_uri": "https://localhost:8080/"
        },
        "id": "a-4hiKI7q_kn",
        "outputId": "bc269297-c2f4-4678-a819-ff6747e65100"
      },
      "execution_count": null,
      "outputs": [
        {
          "output_type": "stream",
          "name": "stdout",
          "text": [
            "Area under ROC(vihos datasets): 0.871423667865317\n",
            "              precision    recall  f1-score   support\n",
            "\n",
            "           0       0.79      0.80      0.79       532\n",
            "           1       0.81      0.80      0.81       575\n",
            "\n",
            "    accuracy                           0.80      1107\n",
            "   macro avg       0.80      0.80      0.80      1107\n",
            "weighted avg       0.80      0.80      0.80      1107\n",
            "\n"
          ]
        }
      ]
    },
    {
      "cell_type": "code",
      "source": [
        "# Xây dựng hàm dự đoán văn bản\n",
        "def IsToxicVietnameseText(text):\n",
        "  single_text_df = spark.createDataFrame([(text,)], [\"content\"])\n",
        "  predict = model.transform(single_text_df)\n",
        "  probability = list(predict.select(\"probability\").collect()[0][\"probability\"])\n",
        "  isToxic = predict.select(\"prediction\").collect()[0][\"prediction\"] == 0\n",
        "  return ({\"negative\":round(probability[0],2),\"positive\":round(probability[1],2)},isToxic)"
      ],
      "metadata": {
        "id": "_BcRJWcVfsDP"
      },
      "execution_count": null,
      "outputs": []
    },
    {
      "cell_type": "code",
      "source": [
        "# Ví dụ dự đoán nhãn \"tích cực\"\n",
        "IsToxicVietnameseText(\"Chất cotton siêu đẹp mịn mát.\")"
      ],
      "metadata": {
        "colab": {
          "base_uri": "https://localhost:8080/"
        },
        "id": "dKtmmteAgNqp",
        "outputId": "376784c1-0790-4830-9033-1b1e0f2a5515"
      },
      "execution_count": null,
      "outputs": [
        {
          "output_type": "execute_result",
          "data": {
            "text/plain": [
              "({'negative': 0.0, 'positive': 1.0}, False)"
            ]
          },
          "metadata": {},
          "execution_count": 370
        }
      ]
    },
    {
      "cell_type": "code",
      "source": [
        "# Ví dụ dự đoán nhãn \"tiêu cực\"\n",
        "IsToxicVietnameseText(\"Dịch vụ quá tệ !\")"
      ],
      "metadata": {
        "colab": {
          "base_uri": "https://localhost:8080/"
        },
        "id": "wev23zdUZB_g",
        "outputId": "1036e554-89ec-4210-cad7-0fd5d4182751"
      },
      "execution_count": null,
      "outputs": [
        {
          "output_type": "execute_result",
          "data": {
            "text/plain": [
              "({'negative': 1.0, 'positive': 0.0}, True)"
            ]
          },
          "metadata": {},
          "execution_count": 369
        }
      ]
    },
    {
      "cell_type": "code",
      "source": [
        "model.save(\"VietnameseToxicDetect\")"
      ],
      "metadata": {
        "id": "mY5mOER6sBVi"
      },
      "execution_count": null,
      "outputs": []
    },
    {
      "cell_type": "markdown",
      "source": [
        "## **Xây dựng giao diện sử dụng**"
      ],
      "metadata": {
        "id": "ZrptieRhr4Zo"
      }
    },
    {
      "cell_type": "code",
      "source": [
        "!pip install gradio"
      ],
      "metadata": {
        "id": "mmZ533ZmjAo8",
        "colab": {
          "base_uri": "https://localhost:8080/"
        },
        "outputId": "34a135fe-1d5d-4433-9b13-55f6ca692136"
      },
      "execution_count": null,
      "outputs": [
        {
          "output_type": "stream",
          "name": "stdout",
          "text": [
            "Collecting gradio\n",
            "  Downloading gradio-3.42.0-py3-none-any.whl (20.1 MB)\n",
            "\u001b[2K     \u001b[90m━━━━━━━━━━━━━━━━━━━━━━━━━━━━━━━━━━━━━━━━\u001b[0m \u001b[32m20.1/20.1 MB\u001b[0m \u001b[31m8.2 MB/s\u001b[0m eta \u001b[36m0:00:00\u001b[0m\n",
            "\u001b[?25hCollecting aiofiles<24.0,>=22.0 (from gradio)\n",
            "  Downloading aiofiles-23.2.1-py3-none-any.whl (15 kB)\n",
            "Requirement already satisfied: altair<6.0,>=4.2.0 in /usr/local/lib/python3.10/dist-packages (from gradio) (4.2.2)\n",
            "Collecting fastapi (from gradio)\n",
            "  Downloading fastapi-0.103.1-py3-none-any.whl (66 kB)\n",
            "\u001b[2K     \u001b[90m━━━━━━━━━━━━━━━━━━━━━━━━━━━━━━━━━━━━━━━━\u001b[0m \u001b[32m66.2/66.2 kB\u001b[0m \u001b[31m5.7 MB/s\u001b[0m eta \u001b[36m0:00:00\u001b[0m\n",
            "\u001b[?25hCollecting ffmpy (from gradio)\n",
            "  Downloading ffmpy-0.3.1.tar.gz (5.5 kB)\n",
            "  Preparing metadata (setup.py) ... \u001b[?25l\u001b[?25hdone\n",
            "Collecting gradio-client==0.5.0 (from gradio)\n",
            "  Downloading gradio_client-0.5.0-py3-none-any.whl (298 kB)\n",
            "\u001b[2K     \u001b[90m━━━━━━━━━━━━━━━━━━━━━━━━━━━━━━━━━━━━━━\u001b[0m \u001b[32m298.2/298.2 kB\u001b[0m \u001b[31m27.1 MB/s\u001b[0m eta \u001b[36m0:00:00\u001b[0m\n",
            "\u001b[?25hCollecting httpx (from gradio)\n",
            "  Downloading httpx-0.24.1-py3-none-any.whl (75 kB)\n",
            "\u001b[2K     \u001b[90m━━━━━━━━━━━━━━━━━━━━━━━━━━━━━━━━━━━━━━━━\u001b[0m \u001b[32m75.4/75.4 kB\u001b[0m \u001b[31m7.6 MB/s\u001b[0m eta \u001b[36m0:00:00\u001b[0m\n",
            "\u001b[?25hCollecting huggingface-hub>=0.14.0 (from gradio)\n",
            "  Downloading huggingface_hub-0.16.4-py3-none-any.whl (268 kB)\n",
            "\u001b[2K     \u001b[90m━━━━━━━━━━━━━━━━━━━━━━━━━━━━━━━━━━━━━━\u001b[0m \u001b[32m268.8/268.8 kB\u001b[0m \u001b[31m22.0 MB/s\u001b[0m eta \u001b[36m0:00:00\u001b[0m\n",
            "\u001b[?25hRequirement already satisfied: importlib-resources<7.0,>=1.3 in /usr/local/lib/python3.10/dist-packages (from gradio) (6.0.1)\n",
            "Requirement already satisfied: jinja2<4.0 in /usr/local/lib/python3.10/dist-packages (from gradio) (3.1.2)\n",
            "Requirement already satisfied: markupsafe~=2.0 in /usr/local/lib/python3.10/dist-packages (from gradio) (2.1.3)\n",
            "Requirement already satisfied: matplotlib~=3.0 in /usr/local/lib/python3.10/dist-packages (from gradio) (3.7.1)\n",
            "Requirement already satisfied: numpy~=1.0 in /usr/local/lib/python3.10/dist-packages (from gradio) (1.23.5)\n",
            "Collecting orjson~=3.0 (from gradio)\n",
            "  Downloading orjson-3.9.5-cp310-cp310-manylinux_2_17_x86_64.manylinux2014_x86_64.whl (139 kB)\n",
            "\u001b[2K     \u001b[90m━━━━━━━━━━━━━━━━━━━━━━━━━━━━━━━━━━━━━━\u001b[0m \u001b[32m139.9/139.9 kB\u001b[0m \u001b[31m11.4 MB/s\u001b[0m eta \u001b[36m0:00:00\u001b[0m\n",
            "\u001b[?25hRequirement already satisfied: packaging in /usr/local/lib/python3.10/dist-packages (from gradio) (23.1)\n",
            "Requirement already satisfied: pandas<3.0,>=1.0 in /usr/local/lib/python3.10/dist-packages (from gradio) (1.5.3)\n",
            "Requirement already satisfied: pillow<11.0,>=8.0 in /usr/local/lib/python3.10/dist-packages (from gradio) (9.4.0)\n",
            "Requirement already satisfied: pydantic!=1.8,!=1.8.1,!=2.0.0,!=2.0.1,<3.0.0,>=1.7.4 in /usr/local/lib/python3.10/dist-packages (from gradio) (2.2.1)\n",
            "Collecting pydub (from gradio)\n",
            "  Downloading pydub-0.25.1-py2.py3-none-any.whl (32 kB)\n",
            "Collecting python-multipart (from gradio)\n",
            "  Downloading python_multipart-0.0.6-py3-none-any.whl (45 kB)\n",
            "\u001b[2K     \u001b[90m━━━━━━━━━━━━━━━━━━━━━━━━━━━━━━━━━━━━━━━━\u001b[0m \u001b[32m45.7/45.7 kB\u001b[0m \u001b[31m4.1 MB/s\u001b[0m eta \u001b[36m0:00:00\u001b[0m\n",
            "\u001b[?25hRequirement already satisfied: pyyaml<7.0,>=5.0 in /usr/local/lib/python3.10/dist-packages (from gradio) (6.0.1)\n",
            "Requirement already satisfied: requests~=2.0 in /usr/local/lib/python3.10/dist-packages (from gradio) (2.31.0)\n",
            "Collecting semantic-version~=2.0 (from gradio)\n",
            "  Downloading semantic_version-2.10.0-py2.py3-none-any.whl (15 kB)\n",
            "Requirement already satisfied: typing-extensions~=4.0 in /usr/local/lib/python3.10/dist-packages (from gradio) (4.7.1)\n",
            "Collecting uvicorn>=0.14.0 (from gradio)\n",
            "  Downloading uvicorn-0.23.2-py3-none-any.whl (59 kB)\n",
            "\u001b[2K     \u001b[90m━━━━━━━━━━━━━━━━━━━━━━━━━━━━━━━━━━━━━━━━\u001b[0m \u001b[32m59.5/59.5 kB\u001b[0m \u001b[31m6.3 MB/s\u001b[0m eta \u001b[36m0:00:00\u001b[0m\n",
            "\u001b[?25hCollecting websockets<12.0,>=10.0 (from gradio)\n",
            "  Downloading websockets-11.0.3-cp310-cp310-manylinux_2_5_x86_64.manylinux1_x86_64.manylinux_2_17_x86_64.manylinux2014_x86_64.whl (129 kB)\n",
            "\u001b[2K     \u001b[90m━━━━━━━━━━━━━━━━━━━━━━━━━━━━━━━━━━━━━━\u001b[0m \u001b[32m129.9/129.9 kB\u001b[0m \u001b[31m11.7 MB/s\u001b[0m eta \u001b[36m0:00:00\u001b[0m\n",
            "\u001b[?25hRequirement already satisfied: fsspec in /usr/local/lib/python3.10/dist-packages (from gradio-client==0.5.0->gradio) (2023.6.0)\n",
            "Requirement already satisfied: entrypoints in /usr/local/lib/python3.10/dist-packages (from altair<6.0,>=4.2.0->gradio) (0.4)\n",
            "Requirement already satisfied: jsonschema>=3.0 in /usr/local/lib/python3.10/dist-packages (from altair<6.0,>=4.2.0->gradio) (4.19.0)\n",
            "Requirement already satisfied: toolz in /usr/local/lib/python3.10/dist-packages (from altair<6.0,>=4.2.0->gradio) (0.12.0)\n",
            "Requirement already satisfied: filelock in /usr/local/lib/python3.10/dist-packages (from huggingface-hub>=0.14.0->gradio) (3.12.2)\n",
            "Requirement already satisfied: tqdm>=4.42.1 in /usr/local/lib/python3.10/dist-packages (from huggingface-hub>=0.14.0->gradio) (4.66.1)\n",
            "Requirement already satisfied: contourpy>=1.0.1 in /usr/local/lib/python3.10/dist-packages (from matplotlib~=3.0->gradio) (1.1.0)\n",
            "Requirement already satisfied: cycler>=0.10 in /usr/local/lib/python3.10/dist-packages (from matplotlib~=3.0->gradio) (0.11.0)\n",
            "Requirement already satisfied: fonttools>=4.22.0 in /usr/local/lib/python3.10/dist-packages (from matplotlib~=3.0->gradio) (4.42.1)\n",
            "Requirement already satisfied: kiwisolver>=1.0.1 in /usr/local/lib/python3.10/dist-packages (from matplotlib~=3.0->gradio) (1.4.4)\n",
            "Requirement already satisfied: pyparsing>=2.3.1 in /usr/local/lib/python3.10/dist-packages (from matplotlib~=3.0->gradio) (3.1.1)\n",
            "Requirement already satisfied: python-dateutil>=2.7 in /usr/local/lib/python3.10/dist-packages (from matplotlib~=3.0->gradio) (2.8.2)\n",
            "Requirement already satisfied: pytz>=2020.1 in /usr/local/lib/python3.10/dist-packages (from pandas<3.0,>=1.0->gradio) (2023.3)\n",
            "Requirement already satisfied: annotated-types>=0.4.0 in /usr/local/lib/python3.10/dist-packages (from pydantic!=1.8,!=1.8.1,!=2.0.0,!=2.0.1,<3.0.0,>=1.7.4->gradio) (0.5.0)\n",
            "Requirement already satisfied: pydantic-core==2.6.1 in /usr/local/lib/python3.10/dist-packages (from pydantic!=1.8,!=1.8.1,!=2.0.0,!=2.0.1,<3.0.0,>=1.7.4->gradio) (2.6.1)\n",
            "Requirement already satisfied: charset-normalizer<4,>=2 in /usr/local/lib/python3.10/dist-packages (from requests~=2.0->gradio) (3.2.0)\n",
            "Requirement already satisfied: idna<4,>=2.5 in /usr/local/lib/python3.10/dist-packages (from requests~=2.0->gradio) (3.4)\n",
            "Requirement already satisfied: urllib3<3,>=1.21.1 in /usr/local/lib/python3.10/dist-packages (from requests~=2.0->gradio) (2.0.4)\n",
            "Requirement already satisfied: certifi>=2017.4.17 in /usr/local/lib/python3.10/dist-packages (from requests~=2.0->gradio) (2023.7.22)\n",
            "Requirement already satisfied: click>=7.0 in /usr/local/lib/python3.10/dist-packages (from uvicorn>=0.14.0->gradio) (8.1.7)\n",
            "Collecting h11>=0.8 (from uvicorn>=0.14.0->gradio)\n",
            "  Downloading h11-0.14.0-py3-none-any.whl (58 kB)\n",
            "\u001b[2K     \u001b[90m━━━━━━━━━━━━━━━━━━━━━━━━━━━━━━━━━━━━━━━━\u001b[0m \u001b[32m58.3/58.3 kB\u001b[0m \u001b[31m6.4 MB/s\u001b[0m eta \u001b[36m0:00:00\u001b[0m\n",
            "\u001b[?25hRequirement already satisfied: anyio<4.0.0,>=3.7.1 in /usr/local/lib/python3.10/dist-packages (from fastapi->gradio) (3.7.1)\n",
            "Collecting starlette<0.28.0,>=0.27.0 (from fastapi->gradio)\n",
            "  Downloading starlette-0.27.0-py3-none-any.whl (66 kB)\n",
            "\u001b[2K     \u001b[90m━━━━━━━━━━━━━━━━━━━━━━━━━━━━━━━━━━━━━━━━\u001b[0m \u001b[32m67.0/67.0 kB\u001b[0m \u001b[31m6.8 MB/s\u001b[0m eta \u001b[36m0:00:00\u001b[0m\n",
            "\u001b[?25hCollecting httpcore<0.18.0,>=0.15.0 (from httpx->gradio)\n",
            "  Downloading httpcore-0.17.3-py3-none-any.whl (74 kB)\n",
            "\u001b[2K     \u001b[90m━━━━━━━━━━━━━━━━━━━━━━━━━━━━━━━━━━━━━━━━\u001b[0m \u001b[32m74.5/74.5 kB\u001b[0m \u001b[31m7.4 MB/s\u001b[0m eta \u001b[36m0:00:00\u001b[0m\n",
            "\u001b[?25hRequirement already satisfied: sniffio in /usr/local/lib/python3.10/dist-packages (from httpx->gradio) (1.3.0)\n",
            "Requirement already satisfied: exceptiongroup in /usr/local/lib/python3.10/dist-packages (from anyio<4.0.0,>=3.7.1->fastapi->gradio) (1.1.3)\n",
            "Requirement already satisfied: attrs>=22.2.0 in /usr/local/lib/python3.10/dist-packages (from jsonschema>=3.0->altair<6.0,>=4.2.0->gradio) (23.1.0)\n",
            "Requirement already satisfied: jsonschema-specifications>=2023.03.6 in /usr/local/lib/python3.10/dist-packages (from jsonschema>=3.0->altair<6.0,>=4.2.0->gradio) (2023.7.1)\n",
            "Requirement already satisfied: referencing>=0.28.4 in /usr/local/lib/python3.10/dist-packages (from jsonschema>=3.0->altair<6.0,>=4.2.0->gradio) (0.30.2)\n",
            "Requirement already satisfied: rpds-py>=0.7.1 in /usr/local/lib/python3.10/dist-packages (from jsonschema>=3.0->altair<6.0,>=4.2.0->gradio) (0.9.2)\n",
            "Requirement already satisfied: six>=1.5 in /usr/local/lib/python3.10/dist-packages (from python-dateutil>=2.7->matplotlib~=3.0->gradio) (1.16.0)\n",
            "Building wheels for collected packages: ffmpy\n",
            "  Building wheel for ffmpy (setup.py) ... \u001b[?25l\u001b[?25hdone\n",
            "  Created wheel for ffmpy: filename=ffmpy-0.3.1-py3-none-any.whl size=5579 sha256=1fdc9fa6e0691c76e0c5d7dd2333df498cd8b9c740269ea01131fba394c8329f\n",
            "  Stored in directory: /root/.cache/pip/wheels/01/a6/d1/1c0828c304a4283b2c1639a09ad86f83d7c487ef34c6b4a1bf\n",
            "Successfully built ffmpy\n",
            "Installing collected packages: pydub, ffmpy, websockets, semantic-version, python-multipart, orjson, h11, aiofiles, uvicorn, starlette, huggingface-hub, httpcore, httpx, fastapi, gradio-client, gradio\n",
            "Successfully installed aiofiles-23.2.1 fastapi-0.103.1 ffmpy-0.3.1 gradio-3.42.0 gradio-client-0.5.0 h11-0.14.0 httpcore-0.17.3 httpx-0.24.1 huggingface-hub-0.16.4 orjson-3.9.5 pydub-0.25.1 python-multipart-0.0.6 semantic-version-2.10.0 starlette-0.27.0 uvicorn-0.23.2 websockets-11.0.3\n"
          ]
        }
      ]
    },
    {
      "cell_type": "code",
      "source": [
        "# Tạo giao diện sử dụng\n",
        "import gradio as gr\n",
        "\n",
        "def sentiment_analysis(text):\n",
        "    predict = IsToxicVietnameseText(text)\n",
        "    scores = predict[0]\n",
        "    return scores\n",
        "\n",
        "demo = gr.Interface(\n",
        "    fn=sentiment_analysis,\n",
        "    inputs=gr.Textbox(placeholder=\"Nhập văn bản tại đây...\",label=\"Hệ thống kiểm tra nội dung độc hại!\"),\n",
        "    outputs=\"label\",\n",
        "    examples=[[\"Tuyệt vời!\"],[\"Dịch vụ quá tệ !\"],[\"Quán ăn ngon\"],[\"Im đi đồ ngu!\"]])\n",
        "\n",
        "demo.launch()"
      ],
      "metadata": {
        "colab": {
          "base_uri": "https://localhost:8080/",
          "height": 616
        },
        "id": "xsBSZD30olrd",
        "outputId": "a19043e6-0e95-4880-9ac0-e0e074d0ebdb"
      },
      "execution_count": null,
      "outputs": [
        {
          "output_type": "stream",
          "name": "stdout",
          "text": [
            "Colab notebook detected. To show errors in colab notebook, set debug=True in launch()\n",
            "Note: opening Chrome Inspector may crash demo inside Colab notebooks.\n",
            "\n",
            "To create a public link, set `share=True` in `launch()`.\n"
          ]
        },
        {
          "output_type": "display_data",
          "data": {
            "text/plain": [
              "<IPython.core.display.Javascript object>"
            ],
            "application/javascript": [
              "(async (port, path, width, height, cache, element) => {\n",
              "                        if (!google.colab.kernel.accessAllowed && !cache) {\n",
              "                            return;\n",
              "                        }\n",
              "                        element.appendChild(document.createTextNode(''));\n",
              "                        const url = await google.colab.kernel.proxyPort(port, {cache});\n",
              "\n",
              "                        const external_link = document.createElement('div');\n",
              "                        external_link.innerHTML = `\n",
              "                            <div style=\"font-family: monospace; margin-bottom: 0.5rem\">\n",
              "                                Running on <a href=${new URL(path, url).toString()} target=\"_blank\">\n",
              "                                    https://localhost:${port}${path}\n",
              "                                </a>\n",
              "                            </div>\n",
              "                        `;\n",
              "                        element.appendChild(external_link);\n",
              "\n",
              "                        const iframe = document.createElement('iframe');\n",
              "                        iframe.src = new URL(path, url).toString();\n",
              "                        iframe.height = height;\n",
              "                        iframe.allow = \"autoplay; camera; microphone; clipboard-read; clipboard-write;\"\n",
              "                        iframe.width = width;\n",
              "                        iframe.style.border = 0;\n",
              "                        element.appendChild(iframe);\n",
              "                    })(7863, \"/\", \"100%\", 500, false, window.element)"
            ]
          },
          "metadata": {}
        },
        {
          "output_type": "execute_result",
          "data": {
            "text/plain": []
          },
          "metadata": {},
          "execution_count": 371
        }
      ]
    },
    {
      "cell_type": "code",
      "source": [
        "# Kết thúc session khi đã sử dụng xong\n",
        "# spark.stop()"
      ],
      "metadata": {
        "id": "WvaxUEKeRqax"
      },
      "execution_count": null,
      "outputs": []
    }
  ]
}